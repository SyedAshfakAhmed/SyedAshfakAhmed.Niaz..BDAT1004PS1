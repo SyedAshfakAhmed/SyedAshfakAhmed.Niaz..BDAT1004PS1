{
 "cells": [
  {
   "cell_type": "markdown",
   "id": "02d77e0f",
   "metadata": {},
   "source": [
    " ## C# : PROBLEM SET 1"
   ]
  },
  {
   "cell_type": "markdown",
   "id": "fce0b466",
   "metadata": {},
   "source": [
    "###  Q1 : Find Data Type ."
   ]
  },
  {
   "cell_type": "code",
   "execution_count": 1,
   "id": "3fabe86f",
   "metadata": {},
   "outputs": [
    {
     "data": {
      "text/html": [
       "\r\n",
       "<div>\r\n",
       "    <div id='dotnet-interactive-this-cell-8240.Microsoft.DotNet.Interactive.Http.HttpPort' style='display: none'>\r\n",
       "        The below script needs to be able to find the current output cell; this is an easy method to get it.\r\n",
       "    </div>\r\n",
       "    <script type='text/javascript'>\r\n",
       "async function probeAddresses(probingAddresses) {\r\n",
       "    function timeout(ms, promise) {\r\n",
       "        return new Promise(function (resolve, reject) {\r\n",
       "            setTimeout(function () {\r\n",
       "                reject(new Error('timeout'))\r\n",
       "            }, ms)\r\n",
       "            promise.then(resolve, reject)\r\n",
       "        })\r\n",
       "    }\r\n",
       "\r\n",
       "    if (Array.isArray(probingAddresses)) {\r\n",
       "        for (let i = 0; i < probingAddresses.length; i++) {\r\n",
       "\r\n",
       "            let rootUrl = probingAddresses[i];\r\n",
       "\r\n",
       "            if (!rootUrl.endsWith('/')) {\r\n",
       "                rootUrl = `${rootUrl}/`;\r\n",
       "            }\r\n",
       "\r\n",
       "            try {\r\n",
       "                let response = await timeout(1000, fetch(`${rootUrl}discovery`, {\r\n",
       "                    method: 'POST',\r\n",
       "                    cache: 'no-cache',\r\n",
       "                    mode: 'cors',\r\n",
       "                    timeout: 1000,\r\n",
       "                    headers: {\r\n",
       "                        'Content-Type': 'text/plain'\r\n",
       "                    },\r\n",
       "                    body: probingAddresses[i]\r\n",
       "                }));\r\n",
       "\r\n",
       "                if (response.status == 200) {\r\n",
       "                    return rootUrl;\r\n",
       "                }\r\n",
       "            }\r\n",
       "            catch (e) { }\r\n",
       "        }\r\n",
       "    }\r\n",
       "}\r\n",
       "\r\n",
       "function loadDotnetInteractiveApi() {\r\n",
       "    probeAddresses([\"http://10.250.31.103:1001/\", \"http://127.0.0.1:1001/\"])\r\n",
       "        .then((root) => {\r\n",
       "        // use probing to find host url and api resources\r\n",
       "        // load interactive helpers and language services\r\n",
       "        let dotnetInteractiveRequire = require.config({\r\n",
       "        context: '8240.Microsoft.DotNet.Interactive.Http.HttpPort',\r\n",
       "                paths:\r\n",
       "            {\r\n",
       "                'dotnet-interactive': `${root}resources`\r\n",
       "                }\r\n",
       "        }) || require;\r\n",
       "\r\n",
       "            window.dotnetInteractiveRequire = dotnetInteractiveRequire;\r\n",
       "\r\n",
       "            window.configureRequireFromExtension = function(extensionName, extensionCacheBuster) {\r\n",
       "                let paths = {};\r\n",
       "                paths[extensionName] = `${root}extensions/${extensionName}/resources/`;\r\n",
       "                \r\n",
       "                let internalRequire = require.config({\r\n",
       "                    context: extensionCacheBuster,\r\n",
       "                    paths: paths,\r\n",
       "                    urlArgs: `cacheBuster=${extensionCacheBuster}`\r\n",
       "                    }) || require;\r\n",
       "\r\n",
       "                return internalRequire\r\n",
       "            };\r\n",
       "        \r\n",
       "            dotnetInteractiveRequire([\r\n",
       "                    'dotnet-interactive/dotnet-interactive'\r\n",
       "                ],\r\n",
       "                function (dotnet) {\r\n",
       "                    dotnet.init(window);\r\n",
       "                },\r\n",
       "                function (error) {\r\n",
       "                    console.log(error);\r\n",
       "                }\r\n",
       "            );\r\n",
       "        })\r\n",
       "        .catch(error => {console.log(error);});\r\n",
       "    }\r\n",
       "\r\n",
       "// ensure `require` is available globally\r\n",
       "if ((typeof(require) !==  typeof(Function)) || (typeof(require.config) !== typeof(Function))) {\r\n",
       "    let require_script = document.createElement('script');\r\n",
       "    require_script.setAttribute('src', 'https://cdnjs.cloudflare.com/ajax/libs/require.js/2.3.6/require.min.js');\r\n",
       "    require_script.setAttribute('type', 'text/javascript');\r\n",
       "    \r\n",
       "    \r\n",
       "    require_script.onload = function() {\r\n",
       "        loadDotnetInteractiveApi();\r\n",
       "    };\r\n",
       "\r\n",
       "    document.getElementsByTagName('head')[0].appendChild(require_script);\r\n",
       "}\r\n",
       "else {\r\n",
       "    loadDotnetInteractiveApi();\r\n",
       "}\r\n",
       "\r\n",
       "    </script>\r\n",
       "</div>"
      ]
     },
     "metadata": {},
     "output_type": "display_data"
    },
    {
     "name": "stdout",
     "output_type": "stream",
     "text": [
      "System.Int32\r\n"
     ]
    }
   ],
   "source": [
    "dynamic x=5;\n",
    "Console.WriteLine(x.GetType());"
   ]
  },
  {
   "cell_type": "code",
   "execution_count": 2,
   "id": "185a98ae",
   "metadata": {},
   "outputs": [
    {
     "name": "stdout",
     "output_type": "stream",
     "text": [
      "System.Double\r\n"
     ]
    }
   ],
   "source": [
    "dynamic y=5.0;\n",
    "Console.WriteLine(y.GetType());"
   ]
  },
  {
   "cell_type": "code",
   "execution_count": 3,
   "id": "4940f609",
   "metadata": {},
   "outputs": [
    {
     "name": "stdout",
     "output_type": "stream",
     "text": [
      "System.Boolean\r\n"
     ]
    }
   ],
   "source": [
    "dynamic z= 5>1;\n",
    "Console.WriteLine(z.GetType());"
   ]
  },
  {
   "cell_type": "code",
   "execution_count": 4,
   "id": "2976b2a1",
   "metadata": {},
   "outputs": [
    {
     "name": "stdout",
     "output_type": "stream",
     "text": [
      "System.Char\r\n"
     ]
    }
   ],
   "source": [
    "dynamic a= '5';\n",
    "Console.WriteLine(a.GetType());"
   ]
  },
  {
   "cell_type": "code",
   "execution_count": 5,
   "id": "dd0b957e",
   "metadata": {},
   "outputs": [
    {
     "name": "stdout",
     "output_type": "stream",
     "text": [
      "System.Int32\r\n"
     ]
    }
   ],
   "source": [
    "dynamic b=5*2;\n",
    "Console.WriteLine(b.GetType());"
   ]
  },
  {
   "cell_type": "code",
   "execution_count": 6,
   "id": "9286434b",
   "metadata": {},
   "outputs": [
    {
     "name": "stdout",
     "output_type": "stream",
     "text": [
      "System.Int32\r\n"
     ]
    }
   ],
   "source": [
    "dynamic c ='5' * 2;\n",
    "Console.WriteLine(c.GetType());"
   ]
  },
  {
   "cell_type": "code",
   "execution_count": 7,
   "id": "3f437c90",
   "metadata": {},
   "outputs": [
    {
     "name": "stdout",
     "output_type": "stream",
     "text": [
      "System.Int32\r\n"
     ]
    }
   ],
   "source": [
    "dynamic d ='5' * '2';\n",
    "Console.WriteLine(d.GetType());"
   ]
  },
  {
   "cell_type": "code",
   "execution_count": 8,
   "id": "f4929596",
   "metadata": {},
   "outputs": [
    {
     "name": "stdout",
     "output_type": "stream",
     "text": [
      "System.Int32\r\n"
     ]
    }
   ],
   "source": [
    "dynamic d =5/2;\n",
    "Console.WriteLine(d.GetType());"
   ]
  },
  {
   "cell_type": "code",
   "execution_count": 9,
   "id": "48497118",
   "metadata": {},
   "outputs": [
    {
     "name": "stdout",
     "output_type": "stream",
     "text": [
      "System.Int32\r\n"
     ]
    }
   ],
   "source": [
    "dynamic d =5%2;\n",
    "Console.WriteLine(d.GetType());"
   ]
  },
  {
   "cell_type": "code",
   "execution_count": 10,
   "id": "bd719154",
   "metadata": {},
   "outputs": [
    {
     "name": "stdout",
     "output_type": "stream",
     "text": [
      "System.Int32[]\r\n"
     ]
    }
   ],
   "source": [
    "int[] d ={5,2,1};\n",
    "Console.WriteLine(d.GetType());"
   ]
  },
  {
   "cell_type": "code",
   "execution_count": 11,
   "id": "ba299fe5",
   "metadata": {},
   "outputs": [
    {
     "name": "stdout",
     "output_type": "stream",
     "text": [
      "System.Boolean\r\n"
     ]
    }
   ],
   "source": [
    "dynamic d = 5==3;\n",
    "Console.WriteLine(d.GetType());"
   ]
  },
  {
   "cell_type": "code",
   "execution_count": 12,
   "id": "5a9d4026",
   "metadata": {},
   "outputs": [
    {
     "name": "stdout",
     "output_type": "stream",
     "text": [
      "System.Double\r\n"
     ]
    }
   ],
   "source": [
    "a=3.14;\n",
    "Console.WriteLine(a.GetType());"
   ]
  },
  {
   "cell_type": "markdown",
   "id": "e09d4e16",
   "metadata": {},
   "source": [
    "###  Q2: c#"
   ]
  },
  {
   "cell_type": "code",
   "execution_count": 13,
   "id": "c6d2b98a",
   "metadata": {},
   "outputs": [
    {
     "name": "stdout",
     "output_type": "stream",
     "text": [
      "Number of letters in string: 34\r\n"
     ]
    }
   ],
   "source": [
    "string text =\"Supercalifragilisticexpialidocious\" ;\n",
    "Console.WriteLine(\"Number of letters in string: \" +text.Length);"
   ]
  },
  {
   "cell_type": "code",
   "execution_count": 14,
   "id": "6f3ba0a6",
   "metadata": {},
   "outputs": [
    {
     "name": "stdout",
     "output_type": "stream",
     "text": [
      "Is there substring ice in the text? : True\r\n"
     ]
    }
   ],
   "source": [
    "string text =\"Supercalifragilisticexpialidocious\" ;\n",
    "string sub =\"ice\";\n",
    "bool a  = text.Contains(sub);\n",
    "Console.WriteLine(\"Is there substring ice in the text? : \" +a);"
   ]
  },
  {
   "cell_type": "code",
   "execution_count": 15,
   "id": "fa61c937",
   "metadata": {},
   "outputs": [
    {
     "name": "stdout",
     "output_type": "stream",
     "text": [
      "Longest String: Bababadalgharaghtakamminarronnkonn\r\n"
     ]
    }
   ],
   "source": [
    "string s1 =\"Supercalifragilisticexpialidocious\" ;\n",
    "string s2 =\"Honorificabilitudinitatibus\" ;\n",
    "string s3 = \"Bababadalgharaghtakamminarronnkonn\" ;\n",
    "if ( s1.Length> s2.Length && s1.Length>s3.Length )\n",
    "{\n",
    "Console.WriteLine(\"Longest String: \" +s1);\n",
    "}\n",
    "else if (s2.Length> s1.Length && s2.Length>s3.Length )\n",
    "{\n",
    "Console.WriteLine(\"Longest String: \" +s2);\n",
    "}\n",
    "else\n",
    "{\n",
    "Console.WriteLine(\"Longest String: \" +s3);\n",
    "}"
   ]
  },
  {
   "cell_type": "code",
   "execution_count": 16,
   "id": "8093c693",
   "metadata": {},
   "outputs": [
    {
     "name": "stdout",
     "output_type": "stream",
     "text": [
      "First in Dictionary: [Bartok, 4]\n",
      "Last in Dictionary: [Buxtehude, 6]\n"
     ]
    }
   ],
   "source": [
    "SortedDictionary<string, string> composers = new SortedDictionary<string, string>(); \n",
    "composers.Add(\"Berlioz\",\"1\");\n",
    "composers.Add(\"Borodin\",\"2\");\n",
    "composers.Add(\"Brian\",\"3\");\n",
    "composers.Add(\"Bartok\",\"4\");\n",
    "composers.Add(\"Bellini\",\"5\");\n",
    "composers.Add(\"Buxtehude\",\"6\");\n",
    "composers.Add(\"Bernstein\",\"7\");\n",
    "composers.ElementAt(0);\n",
    "composers.ElementAt(composers.Count -1);\n",
    "Console.WriteLine(\"First in Dictionary: \" +composers.ElementAt(0) );\n",
    "Console.WriteLine(\"Last in Dictionary: \" +composers.ElementAt(composers.Count -1) );"
   ]
  },
  {
   "cell_type": "markdown",
   "id": "f4d93a31",
   "metadata": {},
   "source": [
    "### Q3: Implement function triangleArea(a,b,c) that takes as input the lengths of the 3 sides of a triangle and returns the area of the triangle."
   ]
  },
  {
   "cell_type": "code",
   "execution_count": 17,
   "id": "5a088aa7",
   "metadata": {},
   "outputs": [
    {
     "name": "stdout",
     "output_type": "stream",
     "text": [
      "1.7320508075688772\r\n"
     ]
    }
   ],
   "source": [
    "double triangleArea(int a, int b, int c)\n",
    "{\n",
    "double s = (double)(a+b+c)/2;\n",
    "double x= (double)(s*(s - a)*(s -b)*(s -c));\n",
    "double area = Math.Sqrt(x);\n",
    "return area;\n",
    "}\n",
    "Console.WriteLine(triangleArea(2,2,2));"
   ]
  },
  {
   "cell_type": "markdown",
   "id": "4a629a83",
   "metadata": {},
   "source": [
    "### Q4 : C# Sharp to separate odd and even integers in separate arrays.\n",
    "\n",
    "Code for the following has been written down on Microsoft Visual Studio and output is attached below as a screenshot."
   ]
  },
  {
   "cell_type": "code",
   "execution_count": null,
   "id": "6088c7e4",
   "metadata": {},
   "outputs": [],
   "source": [
    "using System;\n",
    "namespace Demo\n",
    "{\n",
    "    public class Program\n",
    "    {\n",
    "        public static void Main(string[] args)\n",
    "        {\n",
    "            int[] arr1 = new int[] {\n",
    "            25,\n",
    "            47,\n",
    "            42,\n",
    "            56,\n",
    "            32\n",
    "         };\n",
    "            int[] arr2 = new int[5];\n",
    "            int[] arr3 = new int[5];\n",
    "            int i, j = 0, k = 0;\n",
    "            for (i = 0; i < 5; i++)\n",
    "            {\n",
    "                if (arr1[i] % 2 == 0)\n",
    "                {\n",
    "                    arr2[j] = arr1[i];\n",
    "                    j++;\n",
    "                }\n",
    "                else\n",
    "                {\n",
    "                    arr3[k] = arr1[i];\n",
    "                    k++;\n",
    "                }\n",
    "            }\n",
    "            Console.WriteLine(\"Even numbers...\");\n",
    "            for (i = 0; i < j; i++)\n",
    "            {\n",
    "                Console.WriteLine(arr2[i]);\n",
    "            }\n",
    "            Console.WriteLine(\"Odd numbers...\");\n",
    "            for (i = 0; i < k; i++)\n",
    "            {\n",
    "                Console.WriteLine(arr3[i]);\n",
    "            }\n",
    "        }\n",
    "    }\n",
    "}"
   ]
  },
  {
   "attachments": {
    "Screenshot%202022-10-12%20150500.png": {
     "image/png": "[encoded data removed]"
    }
   },
   "cell_type": "markdown",
   "id": "0f67b160",
   "metadata": {},
   "source": [
    "![Screenshot%202022-10-12%20150500.png](attachment:Screenshot%202022-10-12%20150500.png)"
   ]
  },
  {
   "cell_type": "markdown",
   "id": "2cef0e9b",
   "metadata": {},
   "source": [
    "### Q5: a function inside(x,y,x1,y1,x2,y2) that returns True or False depending on whether the point (x,y) lies in the rectangle with lower left corner (x1,y1) and upper right corner (x2,y2).\n",
    "\n",
    "Use function inside() from part a. to write an expression that tests whether the point (1,1) lies in both of the following rectangles: one with lower left corner (0.3, 0.5) and upper right corner (1.1, 0.7) and the other with lower left corner (0.5, 0.2) and upper right corner (1.1, 2)."
   ]
  },
  {
   "cell_type": "code",
   "execution_count": 20,
   "id": "7cb7b199",
   "metadata": {},
   "outputs": [
    {
     "name": "stdout",
     "output_type": "stream",
     "text": [
      "True\n",
      "False\n",
      "False\n"
     ]
    }
   ],
   "source": [
    "bool inside(double x,double y,double x1,double y1,double x2,double y2)\n",
    "{\n",
    " if(x>x1 && x<x2  && y>y1 && y<y2)\n",
    " \n",
    "  return true;\n",
    " \n",
    " else \n",
    " return false;\n",
    "}\n",
    "Console.WriteLine(inside(1,1,0,0,2,3));\n",
    "Console.WriteLine(inside(-1,-1,0,0,2,3));\n",
    "Console.WriteLine(inside(1,1,0.3,0.5,1.1,0.7) && inside(1,1,0.5,0.2,1.1,2));"
   ]
  }
 ],
 "metadata": {
  "kernelspec": {
   "display_name": ".NET (C#)",
   "language": "C#",
   "name": ".net-csharp"
  },
  "language_info": {
   "file_extension": ".cs",
   "mimetype": "text/x-csharp",
   "name": "C#",
   "pygments_lexer": "csharp",
   "version": "10.0"
  }
 },
 "nbformat": 4,
 "nbformat_minor": 5
}
